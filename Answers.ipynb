{
 "cells": [
  {
   "cell_type": "code",
   "execution_count": 2,
   "metadata": {},
   "outputs": [],
   "source": [
    "import pandas as pd"
   ]
  },
  {
   "cell_type": "code",
   "execution_count": 3,
   "metadata": {},
   "outputs": [],
   "source": [
    "df = pd.read_csv(\"mortalidad_materna_2002-2016.csv\")"
   ]
  },
  {
   "cell_type": "code",
   "execution_count": 5,
   "metadata": {},
   "outputs": [],
   "source": [
    "# Data sanitization (ASUMIENDO que 0 en Razón Mortalidad Materna implica que es irrelevante el dato)\n",
    "df = df[df['Razón de mortalidad materna'] == 1]"
   ]
  },
  {
   "cell_type": "markdown",
   "metadata": {},
   "source": [
    "### ¿Cuál es el estado con la mayor cantidad de muertes maternas del país?"
   ]
  },
  {
   "cell_type": "code",
   "execution_count": 6,
   "metadata": {},
   "outputs": [
    {
     "name": "stdout",
     "output_type": "stream",
     "text": [
      "El estado de México es el mayor con un total de 1725 muertes maternas\n"
     ]
    }
   ],
   "source": [
    "grp = df.groupby('Descripción de la entidad de ocurrencia').size()\n",
    "max_state = grp.nlargest(1)\n",
    "print('El estado de', max_state.index[0], 'es el mayor con un total de', max_state[0], 'muertes maternas')"
   ]
  },
  {
   "cell_type": "markdown",
   "metadata": {},
   "source": [
    "### Gráfica la mortalidad materna por Edad"
   ]
  },
  {
   "cell_type": "code",
   "execution_count": 8,
   "metadata": {},
   "outputs": [
    {
     "data": {
      "text/plain": [
       "Text(0,0.5,'# de Muertes')"
      ]
     },
     "execution_count": 8,
     "metadata": {},
     "output_type": "execute_result"
    },
    {
     "data": {
      "image/png": "[encoded data removed]",
      "text/plain": [
       "<matplotlib.figure.Figure at 0x7f62afe99080>"
      ]
     },
     "metadata": {},
     "output_type": "display_data"
    }
   ],
   "source": [
    "grp = df.groupby('Edad cumplida').size()\n",
    "grp = grp[:-1]  # Ultima fila excluida por edad n/d\n",
    "\n",
    "grafica = grp.plot(title='Mortalidad materna por edad')\n",
    "grafica.set_ylabel('# de Muertes')"
   ]
  },
  {
   "cell_type": "markdown",
   "metadata": {},
   "source": [
    "### Variables en el conjunto de datos que muestren un grado de correlación "
   ]
  },
  {
   "cell_type": "code",
   "execution_count": 9,
   "metadata": {
    "scrolled": true
   },
   "outputs": [
    {
     "name": "stdout",
     "output_type": "stream",
     "text": [
      "Entidad de ocurrencia y Entidad de registro son las variables con mayor correlación (99.7%)\n"
     ]
    }
   ],
   "source": [
    "corr_vars = df.corr().abs()\n",
    "s = corr_vars.unstack()\n",
    "so = s.sort_values(kind=\"quicksort\").dropna().drop_duplicates()\n",
    "so = so[so.values != 1]  # Delete redundant values\n",
    "\n",
    "max_vars = so.index[-1]\n",
    "max_corr = round(so[-1] * 100, 2)\n",
    "print(max_vars[0], 'y', max_vars[1], 'son las variables con mayor correlación ({}%)'.format(max_corr))"
   ]
  },
  {
   "cell_type": "markdown",
   "metadata": {},
   "source": [
    "### Problemas que presenta el conjunto de datos, ¿Qué recomendaciones le darías a los miembros del equipo?"
   ]
  },
  {
   "cell_type": "markdown",
   "metadata": {},
   "source": [
    "###### Eliminar datos redundantes, existe una gran cantidad de columnas que son -para fines prácticos- inútiles o que generan información inútil y/o duplicada. Por ejemplo, se mantienen claves y descripciones de más detalladas de esas claves en Tamaño de localidad, Municipio de residencia, Causa de CIE, etc. \n",
    "###### Asimismo, se necesita normalizar los datos, se puede eficientizar la búsqueda de datos si se manntuvieran datos de nacimiento y defunción en formato DateTime (por nombrar un ejemplo). Aunque estoy seguro que tomó tiempo realizar el trabajo de recopilar estos datos, existen columnas sin propósito concebible como Año de la BDD, fecha de registro y certificación, entre otros."
   ]
  },
  {
   "cell_type": "markdown",
   "metadata": {},
   "source": [
    "### ¿Cuál es la variable que más afecta a la mortalidad materna?"
   ]
  },
  {
   "cell_type": "markdown",
   "metadata": {},
   "source": [
    "###### Creo que no existe ninguna variable particularmente influyente (de otra manera ya se hubiera reducido la tasa de mortalidad), sin embargo, los datos presentan un sesgo hacia mujeres que no contaban con Derechohabiencia, por lo que se podría argumentar que esta variable tiene una influencia evidente. \n",
    "###### No obstante, se necesitaría comparar y relacionar información adicional de mujeres con partos exitosos y ver que factores contribuyeron en cada parto."
   ]
  },
  {
   "cell_type": "code",
   "execution_count": 11,
   "metadata": {},
   "outputs": [
    {
     "data": {
      "text/plain": [
       "Descrición de la derechiahabiencia\n",
       "DERECHOHABIENCIA NO ESPECIFICADA     1367\n",
       "IMSS                                 2867\n",
       "IMSS Oportunidades                    101\n",
       "ISSSTE                                504\n",
       "NINGUNA                              6374\n",
       "OTRA                                  281\n",
       "PEMEX                                  30\n",
       "SECRETARIA DE LA DEFENSA NACIONAL      71\n",
       "SECRETARIA DE MARINA                   87\n",
       "SEGURO POPULAR                       4256\n",
       "dtype: int64"
      ]
     },
     "execution_count": 11,
     "metadata": {},
     "output_type": "execute_result"
    }
   ],
   "source": [
    "df.groupby('Descrición de la derechiahabiencia').size()"
   ]
  }
 ],
 "metadata": {
  "kernelspec": {
   "display_name": "Python 3",
   "language": "python",
   "name": "python3"
  },
  "language_info": {
   "codemirror_mode": {
    "name": "ipython",
    "version": 3
   },
   "file_extension": ".py",
   "mimetype": "text/x-python",
   "name": "python",
   "nbconvert_exporter": "python",
   "pygments_lexer": "ipython3",
   "version": "3.6.4"
  }
 },
 "nbformat": 4,
 "nbformat_minor": 2
}
